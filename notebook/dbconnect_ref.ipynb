{
 "cells": [
  {
   "cell_type": "markdown",
   "metadata": {
    "application/vnd.databricks.v1+cell": {
     "cellMetadata": {},
     "inputWidgets": {},
     "nuid": "da3b3688-5538-4df5-ba49-d2d8f8175101",
     "showTitle": false,
     "title": ""
    }
   },
   "source": [
    "## Setup"
   ]
  },
  {
   "cell_type": "code",
   "execution_count": 0,
   "metadata": {
    "application/vnd.databricks.v1+cell": {
     "cellMetadata": {},
     "inputWidgets": {},
     "nuid": "92272251-3bd5-4ac9-83db-3f4cd5815e7f",
     "showTitle": false,
     "title": ""
    }
   },
   "outputs": [],
   "source": [
    "from databricks.connect import DatabricksSession as SparkSession\n",
    "from databricks.sdk.core import Config\n",
    "\n",
    "spark = SparkSession.builder.getOrCreate() \n",
    "# dbutils = DBUtils() "
   ]
  },
  {
   "cell_type": "code",
   "execution_count": 0,
   "metadata": {
    "application/vnd.databricks.v1+cell": {
     "cellMetadata": {},
     "inputWidgets": {},
     "nuid": "f47fb430-42c0-4f77-9248-f8e396f7832d",
     "showTitle": false,
     "title": ""
    }
   },
   "outputs": [],
   "source": [
    "from databricks.sdk import WorkspaceClient\n",
    "w = WorkspaceClient()\n",
    "for c in w.clusters.list():\n",
    "    print(c.cluster_name)"
   ]
  },
  {
   "cell_type": "code",
   "execution_count": 0,
   "metadata": {
    "application/vnd.databricks.v1+cell": {
     "cellMetadata": {},
     "inputWidgets": {},
     "nuid": "e2598ce7-8d0e-4978-9bdd-959c688d6a4a",
     "showTitle": false,
     "title": ""
    }
   },
   "outputs": [],
   "source": [
    "import base64\n",
    "\n",
    "w = WorkspaceClient()\n",
    "\n",
    "file_path  = \"/Users/christopher.chalcraft@databricks.com/zzz_hello.txt\"\n",
    "file_data  = \"Hello, Databricks!\"\n",
    "\n",
    "# The data must be base64-encoded before being written.\n",
    "file_data_base64 = base64.b64encode(file_data.encode())\n",
    "\n",
    "# Create the file.\n",
    "file_handle = w.dbfs.create(\n",
    "  path      = file_path,\n",
    "  overwrite = True\n",
    ").handle"
   ]
  },
  {
   "cell_type": "code",
   "execution_count": 0,
   "metadata": {
    "application/vnd.databricks.v1+cell": {
     "cellMetadata": {},
     "inputWidgets": {},
     "nuid": "629a7fc1-a57c-406e-8015-dc601d04c8b7",
     "showTitle": false,
     "title": ""
    }
   },
   "outputs": [],
   "source": [
    "# Add the base64-encoded version of the data.\n",
    "w.dbfs.add_block(\n",
    "  handle = file_handle,\n",
    "  data   = file_data_base64.decode()\n",
    ")\n",
    "\n",
    "# Close the file after writing.\n",
    "w.dbfs.close(handle = file_handle)\n",
    "\n",
    "# Read the file's contents and then decode and print it.\n",
    "response = w.dbfs.read(path = file_path)\n",
    "print(base64.b64decode(response.data).decode())\n",
    "\n",
    "# Delete the file.\n",
    "w.dbfs.delete(path = file_path)"
   ]
  },
  {
   "cell_type": "code",
   "execution_count": 0,
   "metadata": {
    "application/vnd.databricks.v1+cell": {
     "cellMetadata": {},
     "inputWidgets": {},
     "nuid": "96836c62-03e6-4aea-b965-273dba3de680",
     "showTitle": false,
     "title": ""
    }
   },
   "outputs": [],
   "source": []
  }
 ],
 "metadata": {
  "application/vnd.databricks.v1+notebook": {
   "dashboards": [],
   "language": "python",
   "notebookMetadata": {},
   "notebookName": "dbconnect_ref",
   "widgets": {}
  },
  "kernelspec": {
   "display_name": "python-3.10.9",
   "language": "python",
   "name": "python3"
  },
  "language_info": {
   "codemirror_mode": {
    "name": "ipython",
    "version": 3
   },
   "file_extension": ".py",
   "mimetype": "text/x-python",
   "name": "python",
   "nbconvert_exporter": "python",
   "pygments_lexer": "ipython3",
   "version": "3.10.9"
  },
  "orig_nbformat": 4
 },
 "nbformat": 4,
 "nbformat_minor": 0
}
